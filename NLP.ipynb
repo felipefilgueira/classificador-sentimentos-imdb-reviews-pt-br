{
 "cells": [
  {
   "cell_type": "markdown",
   "metadata": {
    "colab_type": "text",
    "id": "dihKwLZJKqcF"
   },
   "source": [
    "##### RM 335817 – Felipe Filgueira\n",
    "##### RM 336094 – Jefferson Kwak\n",
    "##### RM 336524 – Rodolfo Moreira"
   ]
  },
  {
   "cell_type": "markdown",
   "metadata": {
    "colab_type": "text",
    "id": "WMdF00wwKC51"
   },
   "source": [
    "## Classificador de sentimentos com o dataset imdb-reviews-pt-br.csv\n",
    "\n"
   ]
  },
  {
   "cell_type": "code",
   "execution_count": null,
   "metadata": {
    "colab": {},
    "colab_type": "code",
    "id": "J7_0MCeiUYG4"
   },
   "outputs": [],
   "source": [
    "import pandas as pd\n",
    "import numpy as np"
   ]
  },
  {
   "cell_type": "code",
   "execution_count": 3,
   "metadata": {
    "colab": {
     "base_uri": "https://localhost:8080/",
     "height": 204
    },
    "colab_type": "code",
    "id": "6Zieo4ptUcdj",
    "outputId": "c9d03656-f3e3-4799-adbe-c30d54c642ec"
   },
   "outputs": [
    {
     "data": {
      "text/html": [
       "<div>\n",
       "<style scoped>\n",
       "    .dataframe tbody tr th:only-of-type {\n",
       "        vertical-align: middle;\n",
       "    }\n",
       "\n",
       "    .dataframe tbody tr th {\n",
       "        vertical-align: top;\n",
       "    }\n",
       "\n",
       "    .dataframe thead th {\n",
       "        text-align: right;\n",
       "    }\n",
       "</style>\n",
       "<table border=\"1\" class=\"dataframe\">\n",
       "  <thead>\n",
       "    <tr style=\"text-align: right;\">\n",
       "      <th></th>\n",
       "      <th>id</th>\n",
       "      <th>text_en</th>\n",
       "      <th>text_pt</th>\n",
       "      <th>sentiment</th>\n",
       "    </tr>\n",
       "  </thead>\n",
       "  <tbody>\n",
       "    <tr>\n",
       "      <th>0</th>\n",
       "      <td>1</td>\n",
       "      <td>Once again Mr. Costner has dragged out a movie...</td>\n",
       "      <td>Mais uma vez, o Sr. Costner arrumou um filme p...</td>\n",
       "      <td>neg</td>\n",
       "    </tr>\n",
       "    <tr>\n",
       "      <th>1</th>\n",
       "      <td>2</td>\n",
       "      <td>This is an example of why the majority of acti...</td>\n",
       "      <td>Este é um exemplo do motivo pelo qual a maiori...</td>\n",
       "      <td>neg</td>\n",
       "    </tr>\n",
       "    <tr>\n",
       "      <th>2</th>\n",
       "      <td>3</td>\n",
       "      <td>First of all I hate those moronic rappers, who...</td>\n",
       "      <td>Primeiro de tudo eu odeio esses raps imbecis, ...</td>\n",
       "      <td>neg</td>\n",
       "    </tr>\n",
       "    <tr>\n",
       "      <th>3</th>\n",
       "      <td>4</td>\n",
       "      <td>Not even the Beatles could write songs everyon...</td>\n",
       "      <td>Nem mesmo os Beatles puderam escrever músicas ...</td>\n",
       "      <td>neg</td>\n",
       "    </tr>\n",
       "    <tr>\n",
       "      <th>4</th>\n",
       "      <td>5</td>\n",
       "      <td>Brass pictures movies is not a fitting word fo...</td>\n",
       "      <td>Filmes de fotos de latão não é uma palavra apr...</td>\n",
       "      <td>neg</td>\n",
       "    </tr>\n",
       "  </tbody>\n",
       "</table>\n",
       "</div>"
      ],
      "text/plain": [
       "   id  ... sentiment\n",
       "0   1  ...       neg\n",
       "1   2  ...       neg\n",
       "2   3  ...       neg\n",
       "3   4  ...       neg\n",
       "4   5  ...       neg\n",
       "\n",
       "[5 rows x 4 columns]"
      ]
     },
     "execution_count": 3,
     "metadata": {
      "tags": []
     },
     "output_type": "execute_result"
    }
   ],
   "source": [
    "#Importando o dataset imdb-reviews-pt-br.csv\n",
    "\n",
    "#Importando pelo link\n",
    "dados = pd.read_csv(\"https://dados-ml-pln.s3-sa-east-1.amazonaws.com/imdb-reviews-pt-br.csv\")\n",
    "\n",
    "#Importante pela base local\n",
    "#dados = pd.read_csv(\"dados/imdb-reviews-pt-br.csv\", index_col=0)\n",
    "\n",
    "dados.head()"
   ]
  },
  {
   "cell_type": "code",
   "execution_count": 4,
   "metadata": {
    "colab": {
     "base_uri": "https://localhost:8080/",
     "height": 314
    },
    "colab_type": "code",
    "id": "i3hTm9yZUg8r",
    "outputId": "05bbcb51-fcc7-474e-9f36-a96a9bfcb2b3"
   },
   "outputs": [
    {
     "name": "stdout",
     "output_type": "stream",
     "text": [
      "(49459, 4)\n"
     ]
    },
    {
     "data": {
      "text/html": [
       "<div>\n",
       "<style scoped>\n",
       "    .dataframe tbody tr th:only-of-type {\n",
       "        vertical-align: middle;\n",
       "    }\n",
       "\n",
       "    .dataframe tbody tr th {\n",
       "        vertical-align: top;\n",
       "    }\n",
       "\n",
       "    .dataframe thead th {\n",
       "        text-align: right;\n",
       "    }\n",
       "</style>\n",
       "<table border=\"1\" class=\"dataframe\">\n",
       "  <thead>\n",
       "    <tr style=\"text-align: right;\">\n",
       "      <th></th>\n",
       "      <th>id</th>\n",
       "    </tr>\n",
       "  </thead>\n",
       "  <tbody>\n",
       "    <tr>\n",
       "      <th>count</th>\n",
       "      <td>49459.000000</td>\n",
       "    </tr>\n",
       "    <tr>\n",
       "      <th>mean</th>\n",
       "      <td>24730.960917</td>\n",
       "    </tr>\n",
       "    <tr>\n",
       "      <th>std</th>\n",
       "      <td>14277.792868</td>\n",
       "    </tr>\n",
       "    <tr>\n",
       "      <th>min</th>\n",
       "      <td>1.000000</td>\n",
       "    </tr>\n",
       "    <tr>\n",
       "      <th>25%</th>\n",
       "      <td>12366.500000</td>\n",
       "    </tr>\n",
       "    <tr>\n",
       "      <th>50%</th>\n",
       "      <td>24731.000000</td>\n",
       "    </tr>\n",
       "    <tr>\n",
       "      <th>75%</th>\n",
       "      <td>37095.500000</td>\n",
       "    </tr>\n",
       "    <tr>\n",
       "      <th>max</th>\n",
       "      <td>49460.000000</td>\n",
       "    </tr>\n",
       "  </tbody>\n",
       "</table>\n",
       "</div>"
      ],
      "text/plain": [
       "                 id\n",
       "count  49459.000000\n",
       "mean   24730.960917\n",
       "std    14277.792868\n",
       "min        1.000000\n",
       "25%    12366.500000\n",
       "50%    24731.000000\n",
       "75%    37095.500000\n",
       "max    49460.000000"
      ]
     },
     "execution_count": 4,
     "metadata": {
      "tags": []
     },
     "output_type": "execute_result"
    }
   ],
   "source": [
    "#Analisando o dataset\n",
    "print(dados.shape)\n",
    "dados.describe()"
   ]
  },
  {
   "cell_type": "code",
   "execution_count": 5,
   "metadata": {
    "colab": {
     "base_uri": "https://localhost:8080/",
     "height": 204
    },
    "colab_type": "code",
    "id": "MVG8rfg2U2F7",
    "outputId": "7833f4f7-c2e9-4a2b-9d8f-d74b5c82ce4a"
   },
   "outputs": [
    {
     "name": "stdout",
     "output_type": "stream",
     "text": [
      "<class 'pandas.core.frame.DataFrame'>\n",
      "RangeIndex: 49459 entries, 0 to 49458\n",
      "Data columns (total 4 columns):\n",
      " #   Column     Non-Null Count  Dtype \n",
      "---  ------     --------------  ----- \n",
      " 0   id         49459 non-null  int64 \n",
      " 1   text_en    49459 non-null  object\n",
      " 2   text_pt    49459 non-null  object\n",
      " 3   sentiment  49459 non-null  object\n",
      "dtypes: int64(1), object(3)\n",
      "memory usage: 1.5+ MB\n"
     ]
    }
   ],
   "source": [
    "dados.info()"
   ]
  },
  {
   "cell_type": "code",
   "execution_count": 6,
   "metadata": {
    "colab": {
     "base_uri": "https://localhost:8080/",
     "height": 102
    },
    "colab_type": "code",
    "id": "yei0i6DyU2ho",
    "outputId": "0951dd28-9af7-4153-afd0-91b0d06fb0ea"
   },
   "outputs": [
    {
     "data": {
      "text/plain": [
       "id           0\n",
       "text_en      0\n",
       "text_pt      0\n",
       "sentiment    0\n",
       "dtype: int64"
      ]
     },
     "execution_count": 6,
     "metadata": {
      "tags": []
     },
     "output_type": "execute_result"
    }
   ],
   "source": [
    "#Verificando valores nulos\n",
    "dados.isnull().sum()"
   ]
  },
  {
   "cell_type": "code",
   "execution_count": null,
   "metadata": {
    "colab": {},
    "colab_type": "code",
    "id": "CgjPiHnkU4OO"
   },
   "outputs": [],
   "source": [
    "#**Provisoria** DataSet foi diminuido para efeitos de testes mais rapidos\n",
    "#dados = dados.sample(1000)\n",
    "#dados.shape"
   ]
  },
  {
   "cell_type": "code",
   "execution_count": 8,
   "metadata": {
    "colab": {
     "base_uri": "https://localhost:8080/",
     "height": 111
    },
    "colab_type": "code",
    "id": "01I6DPR1U6Yi",
    "outputId": "b3246583-de49-4081-9c01-b64b81d90e15"
   },
   "outputs": [
    {
     "data": {
      "text/html": [
       "<div>\n",
       "<style scoped>\n",
       "    .dataframe tbody tr th:only-of-type {\n",
       "        vertical-align: middle;\n",
       "    }\n",
       "\n",
       "    .dataframe tbody tr th {\n",
       "        vertical-align: top;\n",
       "    }\n",
       "\n",
       "    .dataframe thead th {\n",
       "        text-align: right;\n",
       "    }\n",
       "</style>\n",
       "<table border=\"1\" class=\"dataframe\">\n",
       "  <thead>\n",
       "    <tr style=\"text-align: right;\">\n",
       "      <th></th>\n",
       "      <th>sentiment</th>\n",
       "      <th>quantidade</th>\n",
       "    </tr>\n",
       "  </thead>\n",
       "  <tbody>\n",
       "    <tr>\n",
       "      <th>neg</th>\n",
       "      <td>50.071777</td>\n",
       "      <td>24765</td>\n",
       "    </tr>\n",
       "    <tr>\n",
       "      <th>pos</th>\n",
       "      <td>49.928223</td>\n",
       "      <td>24694</td>\n",
       "    </tr>\n",
       "  </tbody>\n",
       "</table>\n",
       "</div>"
      ],
      "text/plain": [
       "     sentiment  quantidade\n",
       "neg  50.071777       24765\n",
       "pos  49.928223       24694"
      ]
     },
     "execution_count": 8,
     "metadata": {
      "tags": []
     },
     "output_type": "execute_result"
    }
   ],
   "source": [
    "#Verificando a quantidade e porcetagem das classificações\n",
    "\n",
    "quantidade_pos_neg = dados.sentiment.value_counts()\n",
    "porcentagem_pos_neg = dados.sentiment.value_counts(normalize=True) * 100\n",
    "df_pos_neg = pd.DataFrame(data = porcentagem_pos_neg)\n",
    "df_pos_neg.insert(1, value = quantidade_pos_neg, column = 'quantidade')\n",
    "df_pos_neg"
   ]
  },
  {
   "cell_type": "code",
   "execution_count": 9,
   "metadata": {
    "colab": {
     "base_uri": "https://localhost:8080/",
     "height": 989
    },
    "colab_type": "code",
    "id": "JBdE-oHIVEnm",
    "outputId": "7464e32c-d0f3-49fc-fad7-aee93c04bd63"
   },
   "outputs": [
    {
     "name": "stdout",
     "output_type": "stream",
     "text": [
      "Requirement already satisfied: spacy in /usr/local/lib/python3.6/dist-packages (2.2.4)\n",
      "Requirement already satisfied: catalogue<1.1.0,>=0.0.7 in /usr/local/lib/python3.6/dist-packages (from spacy) (1.0.0)\n",
      "Requirement already satisfied: blis<0.5.0,>=0.4.0 in /usr/local/lib/python3.6/dist-packages (from spacy) (0.4.1)\n",
      "Requirement already satisfied: cymem<2.1.0,>=2.0.2 in /usr/local/lib/python3.6/dist-packages (from spacy) (2.0.3)\n",
      "Requirement already satisfied: plac<1.2.0,>=0.9.6 in /usr/local/lib/python3.6/dist-packages (from spacy) (1.1.3)\n",
      "Requirement already satisfied: requests<3.0.0,>=2.13.0 in /usr/local/lib/python3.6/dist-packages (from spacy) (2.23.0)\n",
      "Requirement already satisfied: setuptools in /usr/local/lib/python3.6/dist-packages (from spacy) (46.3.0)\n",
      "Requirement already satisfied: tqdm<5.0.0,>=4.38.0 in /usr/local/lib/python3.6/dist-packages (from spacy) (4.41.1)\n",
      "Requirement already satisfied: murmurhash<1.1.0,>=0.28.0 in /usr/local/lib/python3.6/dist-packages (from spacy) (1.0.2)\n",
      "Requirement already satisfied: numpy>=1.15.0 in /usr/local/lib/python3.6/dist-packages (from spacy) (1.18.4)\n",
      "Requirement already satisfied: srsly<1.1.0,>=1.0.2 in /usr/local/lib/python3.6/dist-packages (from spacy) (1.0.2)\n",
      "Requirement already satisfied: preshed<3.1.0,>=3.0.2 in /usr/local/lib/python3.6/dist-packages (from spacy) (3.0.2)\n",
      "Requirement already satisfied: thinc==7.4.0 in /usr/local/lib/python3.6/dist-packages (from spacy) (7.4.0)\n",
      "Requirement already satisfied: wasabi<1.1.0,>=0.4.0 in /usr/local/lib/python3.6/dist-packages (from spacy) (0.6.0)\n",
      "Requirement already satisfied: importlib-metadata>=0.20; python_version < \"3.8\" in /usr/local/lib/python3.6/dist-packages (from catalogue<1.1.0,>=0.0.7->spacy) (1.6.0)\n",
      "Requirement already satisfied: urllib3!=1.25.0,!=1.25.1,<1.26,>=1.21.1 in /usr/local/lib/python3.6/dist-packages (from requests<3.0.0,>=2.13.0->spacy) (1.24.3)\n",
      "Requirement already satisfied: certifi>=2017.4.17 in /usr/local/lib/python3.6/dist-packages (from requests<3.0.0,>=2.13.0->spacy) (2020.4.5.1)\n",
      "Requirement already satisfied: idna<3,>=2.5 in /usr/local/lib/python3.6/dist-packages (from requests<3.0.0,>=2.13.0->spacy) (2.9)\n",
      "Requirement already satisfied: chardet<4,>=3.0.2 in /usr/local/lib/python3.6/dist-packages (from requests<3.0.0,>=2.13.0->spacy) (3.0.4)\n",
      "Requirement already satisfied: zipp>=0.5 in /usr/local/lib/python3.6/dist-packages (from importlib-metadata>=0.20; python_version < \"3.8\"->catalogue<1.1.0,>=0.0.7->spacy) (3.1.0)\n",
      "Collecting pt_core_news_sm==2.2.5\n",
      "\u001b[?25l  Downloading https://github.com/explosion/spacy-models/releases/download/pt_core_news_sm-2.2.5/pt_core_news_sm-2.2.5.tar.gz (21.2MB)\n",
      "\u001b[K     |████████████████████████████████| 21.2MB 1.2MB/s \n",
      "\u001b[?25hRequirement already satisfied: spacy>=2.2.2 in /usr/local/lib/python3.6/dist-packages (from pt_core_news_sm==2.2.5) (2.2.4)\n",
      "Requirement already satisfied: catalogue<1.1.0,>=0.0.7 in /usr/local/lib/python3.6/dist-packages (from spacy>=2.2.2->pt_core_news_sm==2.2.5) (1.0.0)\n",
      "Requirement already satisfied: wasabi<1.1.0,>=0.4.0 in /usr/local/lib/python3.6/dist-packages (from spacy>=2.2.2->pt_core_news_sm==2.2.5) (0.6.0)\n",
      "Requirement already satisfied: numpy>=1.15.0 in /usr/local/lib/python3.6/dist-packages (from spacy>=2.2.2->pt_core_news_sm==2.2.5) (1.18.4)\n",
      "Requirement already satisfied: murmurhash<1.1.0,>=0.28.0 in /usr/local/lib/python3.6/dist-packages (from spacy>=2.2.2->pt_core_news_sm==2.2.5) (1.0.2)\n",
      "Requirement already satisfied: thinc==7.4.0 in /usr/local/lib/python3.6/dist-packages (from spacy>=2.2.2->pt_core_news_sm==2.2.5) (7.4.0)\n",
      "Requirement already satisfied: plac<1.2.0,>=0.9.6 in /usr/local/lib/python3.6/dist-packages (from spacy>=2.2.2->pt_core_news_sm==2.2.5) (1.1.3)\n",
      "Requirement already satisfied: tqdm<5.0.0,>=4.38.0 in /usr/local/lib/python3.6/dist-packages (from spacy>=2.2.2->pt_core_news_sm==2.2.5) (4.41.1)\n",
      "Requirement already satisfied: setuptools in /usr/local/lib/python3.6/dist-packages (from spacy>=2.2.2->pt_core_news_sm==2.2.5) (46.3.0)\n",
      "Requirement already satisfied: blis<0.5.0,>=0.4.0 in /usr/local/lib/python3.6/dist-packages (from spacy>=2.2.2->pt_core_news_sm==2.2.5) (0.4.1)\n",
      "Requirement already satisfied: srsly<1.1.0,>=1.0.2 in /usr/local/lib/python3.6/dist-packages (from spacy>=2.2.2->pt_core_news_sm==2.2.5) (1.0.2)\n",
      "Requirement already satisfied: preshed<3.1.0,>=3.0.2 in /usr/local/lib/python3.6/dist-packages (from spacy>=2.2.2->pt_core_news_sm==2.2.5) (3.0.2)\n",
      "Requirement already satisfied: cymem<2.1.0,>=2.0.2 in /usr/local/lib/python3.6/dist-packages (from spacy>=2.2.2->pt_core_news_sm==2.2.5) (2.0.3)\n",
      "Requirement already satisfied: requests<3.0.0,>=2.13.0 in /usr/local/lib/python3.6/dist-packages (from spacy>=2.2.2->pt_core_news_sm==2.2.5) (2.23.0)\n",
      "Requirement already satisfied: importlib-metadata>=0.20; python_version < \"3.8\" in /usr/local/lib/python3.6/dist-packages (from catalogue<1.1.0,>=0.0.7->spacy>=2.2.2->pt_core_news_sm==2.2.5) (1.6.0)\n",
      "Requirement already satisfied: idna<3,>=2.5 in /usr/local/lib/python3.6/dist-packages (from requests<3.0.0,>=2.13.0->spacy>=2.2.2->pt_core_news_sm==2.2.5) (2.9)\n",
      "Requirement already satisfied: urllib3!=1.25.0,!=1.25.1,<1.26,>=1.21.1 in /usr/local/lib/python3.6/dist-packages (from requests<3.0.0,>=2.13.0->spacy>=2.2.2->pt_core_news_sm==2.2.5) (1.24.3)\n",
      "Requirement already satisfied: certifi>=2017.4.17 in /usr/local/lib/python3.6/dist-packages (from requests<3.0.0,>=2.13.0->spacy>=2.2.2->pt_core_news_sm==2.2.5) (2020.4.5.1)\n",
      "Requirement already satisfied: chardet<4,>=3.0.2 in /usr/local/lib/python3.6/dist-packages (from requests<3.0.0,>=2.13.0->spacy>=2.2.2->pt_core_news_sm==2.2.5) (3.0.4)\n",
      "Requirement already satisfied: zipp>=0.5 in /usr/local/lib/python3.6/dist-packages (from importlib-metadata>=0.20; python_version < \"3.8\"->catalogue<1.1.0,>=0.0.7->spacy>=2.2.2->pt_core_news_sm==2.2.5) (3.1.0)\n",
      "Building wheels for collected packages: pt-core-news-sm\n",
      "  Building wheel for pt-core-news-sm (setup.py) ... \u001b[?25l\u001b[?25hdone\n",
      "  Created wheel for pt-core-news-sm: filename=pt_core_news_sm-2.2.5-cp36-none-any.whl size=21186282 sha256=6e72fbb155b6cbb476da2aae7d83638b9300fc7b535216935c0d44fa457a084b\n",
      "  Stored in directory: /tmp/pip-ephem-wheel-cache-azn295ct/wheels/ea/94/74/ec9be8418e9231b471be5dc7e1b45dd670019a376a6b5bc1c0\n",
      "Successfully built pt-core-news-sm\n",
      "Installing collected packages: pt-core-news-sm\n",
      "Successfully installed pt-core-news-sm-2.2.5\n",
      "\u001b[38;5;2m✔ Download and installation successful\u001b[0m\n",
      "You can now load the model via spacy.load('pt_core_news_sm')\n",
      "\u001b[38;5;2m✔ Linking successful\u001b[0m\n",
      "/usr/local/lib/python3.6/dist-packages/pt_core_news_sm -->\n",
      "/usr/local/lib/python3.6/dist-packages/spacy/data/pt\n",
      "You can now load the model via spacy.load('pt')\n"
     ]
    }
   ],
   "source": [
    "# Instalar as bibliotecas spacy\n",
    "!pip install spacy\n",
    "!python -m spacy download pt"
   ]
  },
  {
   "cell_type": "code",
   "execution_count": 10,
   "metadata": {
    "colab": {
     "base_uri": "https://localhost:8080/",
     "height": 51
    },
    "colab_type": "code",
    "id": "-rUQvx3gVSyt",
    "outputId": "4fec4f61-cfe9-44bf-d1c8-909faf485513"
   },
   "outputs": [
    {
     "name": "stdout",
     "output_type": "stream",
     "text": [
      "[nltk_data] Downloading package stopwords to /root/nltk_data...\n",
      "[nltk_data]   Unzipping corpora/stopwords.zip.\n"
     ]
    }
   ],
   "source": [
    "# Importando as bibliotecas e as stopwords\n",
    "from sklearn.model_selection import train_test_split\n",
    "from sklearn.feature_extraction.text import CountVectorizer\n",
    "from sklearn.tree import DecisionTreeClassifier\n",
    "from sklearn.ensemble import RandomForestClassifier\n",
    "from sklearn.linear_model import LogisticRegression\n",
    "from sklearn.metrics import accuracy_score\n",
    "from sklearn.metrics import f1_score\n",
    "import nltk\n",
    "import spacy\n",
    "import string\n",
    "import time\n",
    "\n",
    "# stopwords NLTK\n",
    "nltk.download('stopwords')\n",
    "stops_nltk = nltk.corpus.stopwords.words('portuguese')\n",
    "\n",
    "# stopwords SpaCy\n",
    "nlp = spacy.load('pt')\n",
    "stops_spacy = nlp.Defaults.stop_words"
   ]
  },
  {
   "cell_type": "code",
   "execution_count": null,
   "metadata": {
    "colab": {
     "base_uri": "https://localhost:8080/",
     "height": 51
    },
    "colab_type": "code",
    "id": "gTrkD6IHVaS5",
    "outputId": "0fd30dd4-4e75-4676-8a5d-ec323e7cea5c"
   },
   "outputs": [
    {
     "name": "stdout",
     "output_type": "stream",
     "text": [
      "A métrica F1 Score foi de: 0.7053953960481304\n",
      "Tempo de processamento: 00:02:03.80\n"
     ]
    }
   ],
   "source": [
    "#Tentativa 1 (Modelo DecisionTreeClassifier + Unigrama)\n",
    "\n",
    "start = time.time()\n",
    "\n",
    "vect = CountVectorizer(ngram_range=(1,1))\n",
    "vect.fit(dados.text_pt)\n",
    "text_vect = vect.transform(dados.text_pt)\n",
    "\n",
    "X_train, X_test, y_train, y_test = train_test_split(\n",
    "      text_vect, \n",
    "      dados[\"sentiment\"], \n",
    "      test_size = 0.2, \n",
    "      random_state = 42\n",
    "  )\n",
    "\n",
    "modelo = DecisionTreeClassifier(random_state=42)\n",
    "modelo.fit(X_train, y_train)\n",
    "\n",
    "y_prediction = modelo.predict(X_test)\n",
    "\n",
    "f1 = f1_score(y_prediction, y_test, average = 'weighted')\n",
    "\n",
    "print(\"A métrica F1 Score foi de:\", f1)\n",
    "\n",
    "end = time.time()\n",
    "hours, rem = divmod(end-start, 3600)\n",
    "minutes, seconds = divmod(rem, 60)\n",
    "print(\"Tempo de processamento: {:0>2}:{:0>2}:{:05.2f}\".format(int(hours),int(minutes),seconds))\n",
    "\n",
    "## A métrica F1 Score foi de: 0.7053953960481304 com um tempo de processamento de 00:01:53.05"
   ]
  },
  {
   "cell_type": "code",
   "execution_count": null,
   "metadata": {
    "colab": {
     "base_uri": "https://localhost:8080/",
     "height": 51
    },
    "colab_type": "code",
    "id": "6SpQbJegVh4e",
    "outputId": "b585a407-232a-4f2d-84b8-5fe49d59539f"
   },
   "outputs": [
    {
     "name": "stdout",
     "output_type": "stream",
     "text": [
      "A métrica F1 Score foi de: 0.7226846988737454\n",
      "Tempo de processamento: 00:01:51.08\n"
     ]
    }
   ],
   "source": [
    "#Tentativa 2 (Modelo DecisionTreeClassifier + Unigrama retirando stopwords nltk)\n",
    "start = time.time()\n",
    "\n",
    "vect = CountVectorizer(ngram_range=(1,1), stop_words=stops_nltk)\n",
    "vect.fit(dados.text_pt)\n",
    "text_vect = vect.transform(dados.text_pt)\n",
    "\n",
    "X_train, X_test, y_train, y_test = train_test_split(\n",
    "      text_vect, \n",
    "      dados[\"sentiment\"], \n",
    "      test_size = 0.2, \n",
    "      random_state = 42\n",
    "  )\n",
    "\n",
    "modelo = DecisionTreeClassifier(random_state=42)\n",
    "modelo.fit(X_train, y_train)\n",
    "\n",
    "y_prediction = modelo.predict(X_test)\n",
    "\n",
    "f1 = f1_score(y_prediction, y_test, average = 'weighted')\n",
    "print(\"A métrica F1 Score foi de:\", f1)\n",
    "\n",
    "end = time.time()\n",
    "hours, rem = divmod(end-start, 3600)\n",
    "minutes, seconds = divmod(rem, 60)\n",
    "print(\"Tempo de processamento: {:0>2}:{:0>2}:{:05.2f}\".format(int(hours),int(minutes),seconds))\n",
    "\n",
    "## A métrica F1 Score foi de: 0.7226846988737454 com um tempo de processamento de 00:01:44.06\n",
    "# Retirando as stopwords NTK e tivemos uma melhora."
   ]
  },
  {
   "cell_type": "code",
   "execution_count": null,
   "metadata": {
    "colab": {
     "base_uri": "https://localhost:8080/",
     "height": 51
    },
    "colab_type": "code",
    "id": "1nvwtPmrV8QK",
    "outputId": "7eb69a71-758b-4430-a431-001d6d8ffc01"
   },
   "outputs": [
    {
     "name": "stdout",
     "output_type": "stream",
     "text": [
      "A métrica F1 Score foi de: 0.7226846988737454\n",
      "Tempo de processamento: 00:01:51.78\n"
     ]
    }
   ],
   "source": [
    "#Tentativa 3 (Modelo DecisionTreeClassifier + Unigrama retirando stopwords nltk e suas pontuacoes)\n",
    "start = time.time()\n",
    "\n",
    "vect = CountVectorizer(ngram_range=(1,1), stop_words=stops_nltk + list(string.punctuation))\n",
    "vect.fit(dados.text_pt)\n",
    "text_vect = vect.transform(dados.text_pt)\n",
    "\n",
    "X_train, X_test, y_train, y_test = train_test_split(\n",
    "      text_vect, \n",
    "      dados[\"sentiment\"], \n",
    "      test_size = 0.2, \n",
    "      random_state = 42\n",
    "  )\n",
    "\n",
    "modelo = DecisionTreeClassifier(random_state=42)\n",
    "modelo.fit(X_train, y_train)\n",
    "\n",
    "y_prediction = modelo.predict(X_test)\n",
    "\n",
    "f1 = f1_score(y_prediction, y_test, average = 'weighted')\n",
    "print(\"A métrica F1 Score foi de:\", f1)\n",
    "\n",
    "end = time.time()\n",
    "hours, rem = divmod(end-start, 3600)\n",
    "minutes, seconds = divmod(rem, 60)\n",
    "print(\"Tempo de processamento: {:0>2}:{:0>2}:{:05.2f}\".format(int(hours),int(minutes),seconds))\n",
    "\n",
    "## A métrica F1 Score foi de: 0.7226846988737454 com um tempo de processamento de 00:01:44.11\n",
    "## Não tivemos melhoras ao retirar as pontuaçoes"
   ]
  },
  {
   "cell_type": "code",
   "execution_count": null,
   "metadata": {
    "colab": {
     "base_uri": "https://localhost:8080/",
     "height": 51
    },
    "colab_type": "code",
    "id": "kgIgO2nfczw7",
    "outputId": "f1614146-d8bf-46bb-cbcf-288f27d08223"
   },
   "outputs": [
    {
     "name": "stdout",
     "output_type": "stream",
     "text": [
      "A métrica F1 Score foi de: 0.7242176237395925\n",
      "Tempo de processamento: 00:01:45.15\n"
     ]
    }
   ],
   "source": [
    "#Tentativa 4 (Modelo DecisionTreeClassifier + Unigrama sem stopwords spacy)\n",
    "start = time.time()\n",
    "\n",
    "vect = CountVectorizer(ngram_range=(1,1), stop_words=stops_spacy)\n",
    "vect.fit(dados.text_pt)\n",
    "text_vect = vect.transform(dados.text_pt)\n",
    "\n",
    "X_train, X_test, y_train, y_test = train_test_split(\n",
    "      text_vect, \n",
    "      dados[\"sentiment\"], \n",
    "      test_size = 0.2, \n",
    "      random_state = 42\n",
    "  )\n",
    "\n",
    "modelo = DecisionTreeClassifier(random_state=42)\n",
    "modelo.fit(X_train, y_train)\n",
    "\n",
    "y_prediction = modelo.predict(X_test)\n",
    "\n",
    "f1 = f1_score(y_prediction, y_test, average = 'weighted')\n",
    "print(\"A métrica F1 Score foi de:\", f1)\n",
    "\n",
    "end = time.time()\n",
    "hours, rem = divmod(end-start, 3600)\n",
    "minutes, seconds = divmod(rem, 60)\n",
    "print(\"Tempo de processamento: {:0>2}:{:0>2}:{:05.2f}\".format(int(hours),int(minutes),seconds))\n",
    "\n",
    "## A métrica F1 Score foi de: 0.7242176237395925 com um tempo de processamento de 00:01:39.15\n",
    "# Tivemos uma pequena melhora utilizando os stopwords spacy"
   ]
  },
  {
   "cell_type": "code",
   "execution_count": null,
   "metadata": {
    "colab": {
     "base_uri": "https://localhost:8080/",
     "height": 51
    },
    "colab_type": "code",
    "id": "MTqGc0doWMoO",
    "outputId": "a95d5218-8890-420a-812d-67d5e5c82f33"
   },
   "outputs": [
    {
     "name": "stdout",
     "output_type": "stream",
     "text": [
      "A métrica F1 Score foi de: 0.8561864843167125\n",
      "Tempo de processamento: 00:03:22.41\n"
     ]
    }
   ],
   "source": [
    "#Tentativa 5 (Modelo RandomForestClassifier + Unigrama sem stopwords spacy)\n",
    "start = time.time()\n",
    "\n",
    "#Instanciando o modelo\n",
    "vect = CountVectorizer(ngram_range=(1,1), stop_words=stops_spacy)\n",
    "vect.fit(dados.text_pt)\n",
    "text_vect = vect.transform(dados.text_pt)\n",
    "\n",
    "X_train, X_test, y_train, y_test = train_test_split(\n",
    "      text_vect, \n",
    "      dados[\"sentiment\"], \n",
    "      test_size = 0.2, \n",
    "      random_state = 42\n",
    "  )\n",
    "\n",
    "modelo = RandomForestClassifier(n_estimators=100, n_jobs=-1, random_state = 42)\n",
    "\n",
    "modelo.fit(X_train, y_train)\n",
    "\n",
    "y_prediction = modelo.predict(X_test)\n",
    "\n",
    "f1 = f1_score(y_prediction, y_test, average = 'weighted')\n",
    "print(\"A métrica F1 Score foi de:\", f1) \n",
    "\n",
    "end = time.time()\n",
    "hours, rem = divmod(end-start, 3600)\n",
    "minutes, seconds = divmod(rem, 60)\n",
    "print(\"Tempo de processamento: {:0>2}:{:0>2}:{:05.2f}\".format(int(hours),int(minutes),seconds)) \n",
    "## A métrica F1 Score foi de: 0.8561864843167125 com um tempo de processamento de 00:03:59.46\n",
    "# Tivemos uma grande melhora ao utilizar o modelo RandomForestClassifier"
   ]
  },
  {
   "cell_type": "code",
   "execution_count": null,
   "metadata": {
    "colab": {
     "base_uri": "https://localhost:8080/",
     "height": 51
    },
    "colab_type": "code",
    "id": "HoWCnhntXesV",
    "outputId": "2be1f731-995c-42aa-dfd2-140c36d36ec4"
   },
   "outputs": [
    {
     "name": "stdout",
     "output_type": "stream",
     "text": [
      "A métrica F1 Score foi de: 0.8591866574453395\n",
      "Tempo de processamento: 00:06:24.77\n"
     ]
    }
   ],
   "source": [
    "#Tentativa 6 (Modelo RandomForestClassifier + Unigrama sem stopwords spacy + n_estimators 200)\n",
    "start = time.time()\n",
    "\n",
    "#Instanciando o modelo\n",
    "vect = CountVectorizer(ngram_range=(1,1), stop_words=stops_spacy)\n",
    "vect.fit(dados.text_pt)\n",
    "text_vect = vect.transform(dados.text_pt)\n",
    "\n",
    "X_train, X_test, y_train, y_test = train_test_split(\n",
    "      text_vect, \n",
    "      dados[\"sentiment\"], \n",
    "      test_size = 0.2, \n",
    "      random_state = 42\n",
    "  )\n",
    "\n",
    "modelo = RandomForestClassifier(n_estimators=200, n_jobs=-1, random_state = 42)\n",
    "\n",
    "modelo.fit(X_train, y_train)\n",
    "\n",
    "y_prediction = modelo.predict(X_test)\n",
    "\n",
    "f1 = f1_score(y_prediction, y_test, average = 'weighted')\n",
    "print(\"A métrica F1 Score foi de:\", f1) \n",
    "\n",
    "end = time.time()\n",
    "hours, rem = divmod(end-start, 3600)\n",
    "minutes, seconds = divmod(rem, 60)\n",
    "print(\"Tempo de processamento: {:0>2}:{:0>2}:{:05.2f}\".format(int(hours),int(minutes),seconds)) \n",
    "## A métrica F1 Score foi de: 0.8591866574453395 com um tempo de processamento de 00:07:49.91\n",
    "# Aumentamos o parametro de n_estimators e tivemos uma pequena melhora, mas o tempo de processamento foi o dobro"
   ]
  },
  {
   "cell_type": "code",
   "execution_count": null,
   "metadata": {
    "colab": {
     "base_uri": "https://localhost:8080/",
     "height": 51
    },
    "colab_type": "code",
    "id": "KncjhYVLYKSb",
    "outputId": "ae5ee717-41e7-4c05-de08-f5ee6616e577"
   },
   "outputs": [
    {
     "name": "stdout",
     "output_type": "stream",
     "text": [
      "A métrica F1 Score foi de: 0.7926826080983602\n",
      "Tempo de processamento: 01:15:53.24\n"
     ]
    }
   ],
   "source": [
    "#Tentativa 7 (Modelo RandomForestClassifier + Bigrama sem stopwords spacy)\n",
    "start = time.time()\n",
    "\n",
    "#Instanciando o modelo\n",
    "vect = CountVectorizer(ngram_range=(2,2), stop_words=stops_spacy)\n",
    "vect.fit(dados.text_pt)\n",
    "text_vect = vect.transform(dados.text_pt)\n",
    "\n",
    "X_train, X_test, y_train, y_test = train_test_split(\n",
    "      text_vect, \n",
    "      dados[\"sentiment\"], \n",
    "      test_size = 0.2, \n",
    "      random_state = 42\n",
    "  )\n",
    "\n",
    "modelo = RandomForestClassifier(n_estimators=100, n_jobs=-1, random_state = 42)\n",
    "\n",
    "modelo.fit(X_train, y_train)\n",
    "\n",
    "y_prediction = modelo.predict(X_test)\n",
    "\n",
    "f1 = f1_score(y_prediction, y_test, average = 'weighted')\n",
    "print(\"A métrica F1 Score foi de:\", f1) \n",
    "\n",
    "end = time.time()\n",
    "hours, rem = divmod(end-start, 3600)\n",
    "minutes, seconds = divmod(rem, 60)\n",
    "print(\"Tempo de processamento: {:0>2}:{:0>2}:{:05.2f}\".format(int(hours),int(minutes),seconds)) \n",
    "## A métrica F1 Score foi de: 0.7926826080983602 com um tempo de processamento de 01:15:53.24\n",
    "# Neste teste usamos bigrama com o RandomForestClassifier mas tivemos uma queda na métrica e um aumento muito grande no tempo de processamento"
   ]
  },
  {
   "cell_type": "code",
   "execution_count": null,
   "metadata": {
    "colab": {},
    "colab_type": "code",
    "id": "isfWQKZxa18Q"
   },
   "outputs": [],
   "source": [
    "# Função para realizar a lematização completa do documento\n",
    "def lemmatizer_text(text):        \n",
    "  sent = []\n",
    "  doc = nlp(text)\n",
    "  for word in doc:\n",
    "      sent.append(word.lemma_)\n",
    "  return \" \".join(sent)\n",
    "\n",
    "# Função para realiazar a lematização para os verbos do documento\n",
    "def lemmatizer_verbs(text):        \n",
    "  sent = []\n",
    "  doc = nlp(text)\n",
    "  for word in doc:\n",
    "      if word.pos_ == \"VERB\":\n",
    "          sent.append(word.lemma_)\n",
    "      else:\n",
    "          sent.append(word.orth_)\n",
    "  return \" \".join(sent)"
   ]
  },
  {
   "cell_type": "code",
   "execution_count": 12,
   "metadata": {
    "colab": {
     "base_uri": "https://localhost:8080/",
     "height": 34
    },
    "colab_type": "code",
    "id": "i2zxzEOcgRVo",
    "outputId": "f27cab28-2205-4a7c-aaef-4921765fcada"
   },
   "outputs": [
    {
     "name": "stdout",
     "output_type": "stream",
     "text": [
      "Tempo de processamento: 00:50:01.98\n"
     ]
    }
   ],
   "source": [
    "# Aplicando a funcao para lematizar o texto e inserir no dataframe\n",
    "start = time.time()\n",
    "dados['text_lemma'] = dados.text_pt.apply(lemmatizer_text)\n",
    "end = time.time()\n",
    "hours, rem = divmod(end-start, 3600)\n",
    "minutes, seconds = divmod(rem, 60)\n",
    "print(\"Tempo de processamento: {:0>2}:{:0>2}:{:05.2f}\".format(int(hours),int(minutes),seconds)) #00:52:39.19"
   ]
  },
  {
   "cell_type": "code",
   "execution_count": 13,
   "metadata": {
    "colab": {
     "base_uri": "https://localhost:8080/",
     "height": 34
    },
    "colab_type": "code",
    "id": "ngcPXNpAgYEw",
    "outputId": "a46ab9be-5dfc-41bd-af4b-e9dc8924b744"
   },
   "outputs": [
    {
     "name": "stdout",
     "output_type": "stream",
     "text": [
      "Tempo de processamento: 00:51:30.36\n"
     ]
    }
   ],
   "source": [
    "# Aplicando a funcao para lematizar os verbos do texto e inserir no dataframe\n",
    "start = time.time()\n",
    "dados['text_lemma_verbs'] = dados.text_pt.apply(lemmatizer_verbs)\n",
    "end = time.time()\n",
    "hours, rem = divmod(end-start, 3600)\n",
    "minutes, seconds = divmod(rem, 60)\n",
    "print(\"Tempo de processamento: {:0>2}:{:0>2}:{:05.2f}\".format(int(hours),int(minutes),seconds)) #00:52:03.43"
   ]
  },
  {
   "cell_type": "code",
   "execution_count": 14,
   "metadata": {
    "colab": {
     "base_uri": "https://localhost:8080/",
     "height": 51
    },
    "colab_type": "code",
    "id": "lxoeMnhXdw_q",
    "outputId": "0994e5e2-3a24-4b2d-9b8b-fd60b324d64e"
   },
   "outputs": [
    {
     "name": "stdout",
     "output_type": "stream",
     "text": [
      "A métrica F1 Score foi de: 0.8481625137610169\n",
      "Tempo de processamento: 00:02:57.31\n"
     ]
    }
   ],
   "source": [
    "#Tentativa 8 (Modelo RandomForestClassifier + Unigrama sem stopwords spacy + lematização do texto)\n",
    "start = time.time()\n",
    "\n",
    "#Instanciando o modelo\n",
    "vect = CountVectorizer(ngram_range=(1,1), stop_words=stops_spacy)\n",
    "vect.fit(dados.text_lemma)\n",
    "text_vect = vect.transform(dados.text_lemma)\n",
    "\n",
    "X_train, X_test, y_train, y_test = train_test_split(\n",
    "      text_vect, \n",
    "      dados[\"sentiment\"], \n",
    "      test_size = 0.2, \n",
    "      random_state = 42\n",
    "  )\n",
    "\n",
    "modelo = RandomForestClassifier(n_estimators=100, n_jobs=-1, random_state = 42)\n",
    "\n",
    "modelo.fit(X_train, y_train)\n",
    "\n",
    "y_prediction = modelo.predict(X_test)\n",
    "\n",
    "f1 = f1_score(y_prediction, y_test, average = 'weighted')\n",
    "print(\"A métrica F1 Score foi de:\", f1) \n",
    "\n",
    "end = time.time()\n",
    "hours, rem = divmod(end-start, 3600)\n",
    "minutes, seconds = divmod(rem, 60)\n",
    "print(\"Tempo de processamento: {:0>2}:{:0>2}:{:05.2f}\".format(int(hours),int(minutes),seconds)) \n",
    "## A métrica F1 Score foi de: 0.8481625137610169 com um tempo de processamento de 00:02:57.31\n",
    "# Com o texto lematizado não conseguimos aumentar o score."
   ]
  },
  {
   "cell_type": "code",
   "execution_count": 15,
   "metadata": {
    "colab": {
     "base_uri": "https://localhost:8080/",
     "height": 51
    },
    "colab_type": "code",
    "id": "3yKA8n-Yh67G",
    "outputId": "9c4c14c2-ddad-463b-c8de-7e92a647387c"
   },
   "outputs": [
    {
     "name": "stdout",
     "output_type": "stream",
     "text": [
      "A métrica F1 Score foi de: 0.7976251138838961\n",
      "Tempo de processamento: 00:47:42.00\n"
     ]
    }
   ],
   "source": [
    "#Tentativa 8 (Modelo RandomForestClassifier + Bigrama sem stopwords spacy + lematização do texto)\n",
    "start = time.time()\n",
    "\n",
    "#Instanciando o modelo\n",
    "vect = CountVectorizer(ngram_range=(2,2), stop_words=stops_spacy)\n",
    "vect.fit(dados.text_lemma)\n",
    "text_vect = vect.transform(dados.text_lemma)\n",
    "\n",
    "X_train, X_test, y_train, y_test = train_test_split(\n",
    "      text_vect, \n",
    "      dados[\"sentiment\"], \n",
    "      test_size = 0.2, \n",
    "      random_state = 42\n",
    "  )\n",
    "\n",
    "modelo = RandomForestClassifier(n_estimators=100, n_jobs=-1, random_state = 42)\n",
    "\n",
    "modelo.fit(X_train, y_train)\n",
    "\n",
    "y_prediction = modelo.predict(X_test)\n",
    "\n",
    "f1 = f1_score(y_prediction, y_test, average = 'weighted')\n",
    "print(\"A métrica F1 Score foi de:\", f1) \n",
    "\n",
    "end = time.time()\n",
    "hours, rem = divmod(end-start, 3600)\n",
    "minutes, seconds = divmod(rem, 60)\n",
    "print(\"Tempo de processamento: {:0>2}:{:0>2}:{:05.2f}\".format(int(hours),int(minutes),seconds)) \n",
    "## A métrica F1 Score foi de: 0.7976251138838961 com um tempo de processamento de 00:47:42.00\n",
    "# Com o texto lematizado e bigramas tivemos uma piora no score."
   ]
  },
  {
   "cell_type": "code",
   "execution_count": 16,
   "metadata": {
    "colab": {
     "base_uri": "https://localhost:8080/",
     "height": 51
    },
    "colab_type": "code",
    "id": "Utp6aK9Yd4ss",
    "outputId": "71d0fe2e-bcc0-48f0-de2d-ee7d208b52c3"
   },
   "outputs": [
    {
     "name": "stdout",
     "output_type": "stream",
     "text": [
      "A métrica F1 Score foi de: 0.8516232557984069\n",
      "Tempo de processamento: 00:03:04.04\n"
     ]
    }
   ],
   "source": [
    "#Tentativa 9 (Modelo RandomForestClassifier + Unigrama sem stopwords spacy + lematização dos verbos)\n",
    "start = time.time()\n",
    "\n",
    "#Instanciando o modelo\n",
    "vect = CountVectorizer(ngram_range=(1,1), stop_words=stops_spacy)\n",
    "vect.fit(dados.text_lemma_verbs)\n",
    "text_vect = vect.transform(dados.text_lemma_verbs)\n",
    "\n",
    "X_train, X_test, y_train, y_test = train_test_split(\n",
    "      text_vect, \n",
    "      dados[\"sentiment\"], \n",
    "      test_size = 0.2, \n",
    "      random_state = 42\n",
    "  )\n",
    "\n",
    "modelo = RandomForestClassifier(n_estimators=100, n_jobs=-1, random_state = 42)\n",
    "\n",
    "modelo.fit(X_train, y_train)\n",
    "\n",
    "y_prediction = modelo.predict(X_test)\n",
    "\n",
    "f1 = f1_score(y_prediction, y_test, average = 'weighted')\n",
    "print(\"A métrica F1 Score foi de:\", f1) \n",
    "\n",
    "end = time.time()\n",
    "hours, rem = divmod(end-start, 3600)\n",
    "minutes, seconds = divmod(rem, 60)\n",
    "print(\"Tempo de processamento: {:0>2}:{:0>2}:{:05.2f}\".format(int(hours),int(minutes),seconds)) \n",
    "## A métrica F1 Score foi de: 0.8516232557984069 com um tempo de processamento de 00:03:04.04\n",
    "# Com a lematização dos verbos não conseguimos aumentar o score."
   ]
  },
  {
   "cell_type": "code",
   "execution_count": 17,
   "metadata": {
    "colab": {
     "base_uri": "https://localhost:8080/",
     "height": 51
    },
    "colab_type": "code",
    "id": "eeCxSieNiHk9",
    "outputId": "ad7dd6b2-77c4-43bc-d900-0d8b888eee49"
   },
   "outputs": [
    {
     "name": "stdout",
     "output_type": "stream",
     "text": [
      "A métrica F1 Score foi de: 0.7938966605465549\n",
      "Tempo de processamento: 01:05:15.47\n"
     ]
    }
   ],
   "source": [
    "#Tentativa 10 (Modelo RandomForestClassifier + Bigrama sem stopwords spacy + lematização dos verbos)\n",
    "start = time.time()\n",
    "\n",
    "#Instanciando o modelo\n",
    "vect = CountVectorizer(ngram_range=(2,2), stop_words=stops_spacy)\n",
    "vect.fit(dados.text_lemma_verbs)\n",
    "text_vect = vect.transform(dados.text_lemma_verbs)\n",
    "\n",
    "X_train, X_test, y_train, y_test = train_test_split(\n",
    "      text_vect, \n",
    "      dados[\"sentiment\"], \n",
    "      test_size = 0.2, \n",
    "      random_state = 42\n",
    "  )\n",
    "\n",
    "modelo = RandomForestClassifier(n_estimators=100, n_jobs=-1, random_state = 42)\n",
    "\n",
    "modelo.fit(X_train, y_train)\n",
    "\n",
    "y_prediction = modelo.predict(X_test)\n",
    "\n",
    "f1 = f1_score(y_prediction, y_test, average = 'weighted')\n",
    "print(\"A métrica F1 Score foi de:\", f1) \n",
    "\n",
    "end = time.time()\n",
    "hours, rem = divmod(end-start, 3600)\n",
    "minutes, seconds = divmod(rem, 60)\n",
    "print(\"Tempo de processamento: {:0>2}:{:0>2}:{:05.2f}\".format(int(hours),int(minutes),seconds)) \n",
    "## A métrica F1 Score foi de: 0.7938966605465549 com um tempo de processamento de 01:05:15.47\n",
    "# Com a lematização dos verbos e bigramas tivemos uma queda no score."
   ]
  },
  {
   "cell_type": "code",
   "execution_count": 18,
   "metadata": {
    "colab": {
     "base_uri": "https://localhost:8080/",
     "height": 51
    },
    "colab_type": "code",
    "id": "mKLI7U5gjjFP",
    "outputId": "b616a9fc-460d-422e-ea09-00225ae51245"
   },
   "outputs": [
    {
     "name": "stdout",
     "output_type": "stream",
     "text": [
      "A métrica F1 Score foi de: 0.8484572489046945\n",
      "Tempo de processamento: 00:01:22.29\n"
     ]
    }
   ],
   "source": [
    "#Tentativa 11 (Modelo LogisticRegression + Bigrama sem stopwords spacy + lematização do texto)\n",
    "start = time.time()\n",
    "\n",
    "vect = CountVectorizer(ngram_range=(2,2), stop_words=stops_spacy)\n",
    "vect.fit(dados.text_lemma)\n",
    "text_vect = vect.transform(dados.text_lemma)\n",
    "\n",
    "X_train, X_test, y_train, y_test = train_test_split(\n",
    "      text_vect, \n",
    "      dados[\"sentiment\"], \n",
    "      test_size = 0.2, \n",
    "      random_state = 42\n",
    "  )\n",
    "\n",
    "modelo = LogisticRegression()\n",
    "modelo.fit(X_train, y_train)\n",
    "\n",
    "y_prediction = modelo.predict(X_test)\n",
    "\n",
    "f1 = f1_score(y_prediction, y_test, average = 'weighted')\n",
    "print(\"A métrica F1 Score foi de:\", f1) \n",
    "\n",
    "end = time.time()\n",
    "hours, rem = divmod(end-start, 3600)\n",
    "minutes, seconds = divmod(rem, 60)\n",
    "print(\"Tempo de processamento: {:0>2}:{:0>2}:{:05.2f}\".format(int(hours),int(minutes),seconds))\n",
    "## A métrica F1 Score foi de: 0.8484572489046945 com um tempo de processamento de 00:01:22.29\n",
    "# Usando lematização do texto e bigramas no modelo LogisticRegression não aumentamos o score"
   ]
  },
  {
   "cell_type": "code",
   "execution_count": 19,
   "metadata": {
    "colab": {
     "base_uri": "https://localhost:8080/",
     "height": 51
    },
    "colab_type": "code",
    "id": "b_rr5QAMjju9",
    "outputId": "0cbca2bd-b548-461b-f31a-ee14bbd3c5e7"
   },
   "outputs": [
    {
     "name": "stdout",
     "output_type": "stream",
     "text": [
      "A métrica F1 Score foi de: 0.8481918426296658\n",
      "Tempo de processamento: 00:01:15.01\n"
     ]
    }
   ],
   "source": [
    "#Tentativa 12 (Modelo LogisticRegression + Bigrama sem stopwords spacy + lematização do verbo)\n",
    "start = time.time()\n",
    "\n",
    "vect = CountVectorizer(ngram_range=(2,2), stop_words=stops_spacy)\n",
    "vect.fit(dados.text_lemma_verbs)\n",
    "text_vect = vect.transform(dados.text_lemma_verbs)\n",
    "\n",
    "X_train, X_test, y_train, y_test = train_test_split(\n",
    "      text_vect, \n",
    "      dados[\"sentiment\"], \n",
    "      test_size = 0.2, \n",
    "      random_state = 42\n",
    "  )\n",
    "\n",
    "modelo = LogisticRegression()\n",
    "modelo.fit(X_train, y_train)\n",
    "\n",
    "y_prediction = modelo.predict(X_test)\n",
    "\n",
    "f1 = f1_score(y_prediction, y_test, average = 'weighted')\n",
    "print(\"A métrica F1 Score foi de:\", f1) \n",
    "\n",
    "end = time.time()\n",
    "hours, rem = divmod(end-start, 3600)\n",
    "minutes, seconds = divmod(rem, 60)\n",
    "print(\"Tempo de processamento: {:0>2}:{:0>2}:{:05.2f}\".format(int(hours),int(minutes),seconds))\n",
    "## A métrica F1 Score foi de: 0.8481918426296658 com um tempo de processamento de 00:01:15.01\n",
    "# Usando lematização dos verbos e bigramas no modelo LogisticRegression não aumentamos o score"
   ]
  },
  {
   "cell_type": "code",
   "execution_count": 30,
   "metadata": {
    "colab": {
     "base_uri": "https://localhost:8080/",
     "height": 51
    },
    "colab_type": "code",
    "id": "5x-tPIMd11AH",
    "outputId": "bd162b2a-5e2c-43a7-a5e5-d6d4c914be94"
   },
   "outputs": [
    {
     "name": "stdout",
     "output_type": "stream",
     "text": [
      "A métrica F1 Score foi de: 0.7210636911923664\n",
      "Tempo de processamento: 00:01:39.65\n"
     ]
    }
   ],
   "source": [
    "#Tentativa 13 (Modelo DecisionTreeClassifier + Unigrama sem stopwords spacy + lematização do verbo)\n",
    "\n",
    "start = time.time()\n",
    "\n",
    "vect = CountVectorizer(ngram_range=(1,1), stop_words=stops_spacy)\n",
    "vect.fit(dados.text_lemma_verbs)\n",
    "text_vect = vect.transform(dados.text_lemma_verbs)\n",
    "\n",
    "X_train, X_test, y_train, y_test = train_test_split(\n",
    "      text_vect, \n",
    "      dados[\"sentiment\"], \n",
    "      test_size = 0.2, \n",
    "      random_state = 42\n",
    "  )\n",
    "\n",
    "modelo = DecisionTreeClassifier(random_state=42)\n",
    "modelo.fit(X_train, y_train)\n",
    "\n",
    "y_prediction = modelo.predict(X_test)\n",
    "\n",
    "f1 = f1_score(y_prediction, y_test, average = 'weighted')\n",
    "\n",
    "print(\"A métrica F1 Score foi de:\", f1)\n",
    "\n",
    "end = time.time()\n",
    "hours, rem = divmod(end-start, 3600)\n",
    "minutes, seconds = divmod(rem, 60)\n",
    "print(\"Tempo de processamento: {:0>2}:{:0>2}:{:05.2f}\".format(int(hours),int(minutes),seconds))\n",
    "\n",
    "## A métrica F1 Score foi de: 0.7210636911923664 com um tempo de processamento de 00:01:39.65\n",
    "# Usando lematização dos verbos e unigrama no modelo DecisionTreeClassifier tivemos uma grande queda no score"
   ]
  },
  {
   "cell_type": "code",
   "execution_count": 31,
   "metadata": {
    "colab": {
     "base_uri": "https://localhost:8080/",
     "height": 51
    },
    "colab_type": "code",
    "id": "4TiPTuIp3qKu",
    "outputId": "e2428512-ad57-4828-e0e8-d0ea4b8e0ae2"
   },
   "outputs": [
    {
     "name": "stdout",
     "output_type": "stream",
     "text": [
      "A métrica F1 Score foi de: 0.7297999342312398\n",
      "Tempo de processamento: 00:25:02.04\n"
     ]
    }
   ],
   "source": [
    "#Tentativa 14 (Modelo DecisionTreeClassifier + Bigrama sem stopwords spacy + lematização do verbo)\n",
    "\n",
    "start = time.time()\n",
    "\n",
    "vect = CountVectorizer(ngram_range=(2,2), stop_words=stops_spacy)\n",
    "vect.fit(dados.text_lemma_verbs)\n",
    "text_vect = vect.transform(dados.text_lemma_verbs)\n",
    "\n",
    "X_train, X_test, y_train, y_test = train_test_split(\n",
    "      text_vect, \n",
    "      dados[\"sentiment\"], \n",
    "      test_size = 0.2, \n",
    "      random_state = 42\n",
    "  )\n",
    "\n",
    "modelo = DecisionTreeClassifier(random_state=42)\n",
    "modelo.fit(X_train, y_train)\n",
    "\n",
    "y_prediction = modelo.predict(X_test)\n",
    "\n",
    "f1 = f1_score(y_prediction, y_test, average = 'weighted')\n",
    "\n",
    "print(\"A métrica F1 Score foi de:\", f1)\n",
    "\n",
    "end = time.time()\n",
    "hours, rem = divmod(end-start, 3600)\n",
    "minutes, seconds = divmod(rem, 60)\n",
    "print(\"Tempo de processamento: {:0>2}:{:0>2}:{:05.2f}\".format(int(hours),int(minutes),seconds))\n",
    "\n",
    "## A métrica F1 Score foi de: 0.7297999342312398 com um tempo de processamento de 00:25:02.04\n",
    "# Usando lematização dos verbos e bigrama no modelo DecisionTreeClassifier tivemos uma grande queda no score"
   ]
  },
  {
   "cell_type": "markdown",
   "metadata": {
    "colab_type": "text",
    "id": "rD6DxTVEJatD"
   },
   "source": [
    "## Resultados\n",
    "\n",
    "### Conseguimos como melhor F1 Score 0.8591866574453395 do modelo \"#Tentativa 6 (Modelo RandomForestClassifier + Unigrama sem stopwords spacy + n_estimators 200)\"\n",
    "### Também obtivemos bons números utilizando o modelo \"#Tentativa 11 (Modelo LogisticRegression + Bigrama sem stopwords spacy + lematização do texto)\" com um Score 0.8484572489046945"
   ]
  },
  {
   "cell_type": "code",
   "execution_count": null,
   "metadata": {
    "colab": {},
    "colab_type": "code",
    "id": "8uv9EcbyJZWx"
   },
   "outputs": [],
   "source": []
  }
 ],
 "metadata": {
  "colab": {
   "collapsed_sections": [],
   "name": "NLP.ipynb",
   "provenance": []
  },
  "kernelspec": {
   "display_name": "Python 3",
   "language": "python",
   "name": "python3"
  },
  "language_info": {
   "codemirror_mode": {
    "name": "ipython",
    "version": 3
   },
   "file_extension": ".py",
   "mimetype": "text/x-python",
   "name": "python",
   "nbconvert_exporter": "python",
   "pygments_lexer": "ipython3",
   "version": "3.7.4"
  }
 },
 "nbformat": 4,
 "nbformat_minor": 4
}
